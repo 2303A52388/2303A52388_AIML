{
  "nbformat": 4,
  "nbformat_minor": 0,
  "metadata": {
    "colab": {
      "provenance": []
    },
    "kernelspec": {
      "name": "python3",
      "display_name": "Python 3"
    },
    "language_info": {
      "name": "python"
    }
  },
  "cells": [
    {
      "cell_type": "markdown",
      "source": [],
      "metadata": {
        "id": "1tgRCOvKiFMd"
      }
    },
    {
      "cell_type": "code",
      "execution_count": 23,
      "metadata": {
        "colab": {
          "base_uri": "https://localhost:8080/"
        },
        "id": "LD3Q7NA7hpjs",
        "outputId": "9c67ce87-4ad4-43fe-e32d-08d7cd8bddc4"
      },
      "outputs": [
        {
          "output_type": "stream",
          "name": "stdout",
          "text": [
            "Accuracy with k=3: 0.824\n"
          ]
        }
      ],
      "source": [
        "import pandas as pd\n",
        "import numpy as np\n",
        "from sklearn.model_selection import train_test_split\n",
        "from sklearn.preprocessing import StandardScaler, LabelEncoder # Import LabelEncoder\n",
        "from sklearn.neighbors import KNeighborsClassifier\n",
        "from sklearn.metrics import accuracy_score, confusion_matrix\n",
        "import matplotlib.pyplot as plt\n",
        "from matplotlib.colors import ListedColormap\n",
        "\n",
        "data = pd.read_csv('/content/loan_data (1).csv')\n",
        "X = data.iloc[:, :-1].values\n",
        "y = data.iloc[:, -1].values\n",
        "\n",
        "# Convert categorical features to numerical using Label Encoding\n",
        "le = LabelEncoder()  # Create a LabelEncoder object\n",
        "for i in range(X.shape[1]): # Iterate through all columns of X\n",
        "    if isinstance(X[0, i], str): # Check if the column contains strings\n",
        "        X[:, i] = le.fit_transform(X[:, i]) # Apply Label Encoding to the column\n",
        "\n",
        "\n",
        "X_train, X_test, y_train, y_test = train_test_split(X, y, test_size=0.3, random_state=42)\n",
        "\n",
        "knn = KNeighborsClassifier(n_neighbors=3)\n",
        "knn.fit(X_train, y_train)\n",
        "y_pred = knn.predict(X_test)\n",
        "accuracy = accuracy_score(y_test, y_pred)\n",
        "print(f\"Accuracy with k=3: {accuracy}\")"
      ]
    },
    {
      "cell_type": "code",
      "source": [
        "X_train_2D = X_train[:, :2]\n",
        "X_test_2D = X_test[:, :2]\n",
        "\n",
        "knn_2D = KNeighborsClassifier(n_neighbors=3)\n",
        "knn_2D.fit(X_train_2D, y_train)\n",
        "\n",
        "x_min, x_max = X_train_2D[:, 0].min() - 1, X_train_2D[:, 0].max() + 1\n",
        "y_min, y_max = X_train_2D[:, 1].min() - 1, X_train_2D[:, 1].max() + 1\n",
        "xx, yy = np.meshgrid(np.arange(x_min, x_max, 0.01),\n",
        "                     np.arange(y_min, y_max, 0.01))\n",
        "\n",
        "Z = knn_2D.predict(np.c_[xx.ravel(), yy.ravel()])\n",
        "Z = Z.reshape(xx.shape)\n",
        "\n",
        "plt.figure()\n",
        "plt.contourf(xx, yy, Z, alpha=0.8, cmap=ListedColormap(['#FFAAAA', '#AAFFAA', '#AAAAFF']))\n",
        "plt.scatter(X_train_2D[:, 0], X_train_2D[:, 1], c=y_train, marker='o', cmap=ListedColormap(['#FF0000', '#00FF00', '#0000FF']))\n",
        "plt.scatter(X_test_2D[:, 0], X_test_2D[:, 1], c=y_test, marker='x', cmap=ListedColormap(['#FF0000', '#00FF00', '#0000FF']))\n",
        "plt.title(\"Decision Boundary with KNN (k=3)\")\n",
        "plt.show()"
      ],
      "metadata": {
        "id": "f-wdOIODkExd",
        "colab": {
          "base_uri": "https://localhost:8080/",
          "height": 452
        },
        "outputId": "6d3d9675-8409-43d8-ec62-d95fe1b6fae7"
      },
      "execution_count": 25,
      "outputs": [
        {
          "output_type": "display_data",
          "data": {
            "text/plain": [
              "<Figure size 640x480 with 1 Axes>"
            ],
            "image/png": "[encoded data removed]"
          },
          "metadata": {}
        }
      ]
    },
    {
      "cell_type": "code",
      "source": [
        "conf_matrix = confusion_matrix(y_test, y_pred)\n",
        "print(\"Confusion Matrix:\")\n",
        "print(conf_matrix)\n"
      ],
      "metadata": {
        "id": "4XKzsrSzkGnc",
        "colab": {
          "base_uri": "https://localhost:8080/"
        },
        "outputId": "539f3aac-4107-4ebc-adea-1d41689286b5"
      },
      "execution_count": 26,
      "outputs": [
        {
          "output_type": "stream",
          "name": "stdout",
          "text": [
            "Confusion Matrix:\n",
            "[[9545  948]\n",
            " [1428 1579]]\n"
          ]
        }
      ]
    },
    {
      "cell_type": "code",
      "source": [
        "knn_no_scaling = KNeighborsClassifier(n_neighbors=3)\n",
        "knn_no_scaling.fit(X_train, y_train)\n",
        "y_pred_no_scaling = knn_no_scaling.predict(X_test)\n",
        "accuracy_no_scaling = accuracy_score(y_test, y_pred_no_scaling)\n",
        "\n",
        "scaler = StandardScaler()\n",
        "X_train_scaled = scaler.fit_transform(X_train)\n",
        "X_test_scaled = scaler.transform(X_test)\n",
        "\n",
        "knn_with_scaling = KNeighborsClassifier(n_neighbors=3)\n",
        "knn_with_scaling.fit(X_train_scaled, y_train)\n",
        "y_pred_with_scaling = knn_with_scaling.predict(X_test_scaled)\n",
        "accuracy_with_scaling = accuracy_score(y_test, y_pred_with_scaling)\n",
        "\n",
        "print(f\"Accuracy without scaling: {accuracy_no_scaling}\")\n",
        "print(f\"Accuracy with scaling: {accuracy_with_scaling}\")\n"
      ],
      "metadata": {
        "id": "o2oqnXxAkIra",
        "colab": {
          "base_uri": "https://localhost:8080/"
        },
        "outputId": "7e6e7bc1-80e7-4f20-f4d3-3b401ebd91eb"
      },
      "execution_count": 27,
      "outputs": [
        {
          "output_type": "stream",
          "name": "stdout",
          "text": [
            "Accuracy without scaling: 0.824\n",
            "Accuracy with scaling: 0.8822222222222222\n"
          ]
        }
      ]
    },
    {
      "cell_type": "code",
      "source": [
        "knn_k5 = KNeighborsClassifier(n_neighbors=5)\n",
        "knn_k5.fit(X_train_scaled, y_train)\n",
        "y_pred_k5 = knn_k5.predict(X_test_scaled)\n",
        "accuracy_k5 = accuracy_score(y_test, y_pred_k5)\n",
        "\n",
        "print(f\"Accuracy with k=5: {accuracy_k5}\")\n"
      ],
      "metadata": {
        "id": "0G-A_BlGkIGt",
        "colab": {
          "base_uri": "https://localhost:8080/"
        },
        "outputId": "4c418601-c8b1-4d69-b936-842fd5c64d28"
      },
      "execution_count": 28,
      "outputs": [
        {
          "output_type": "stream",
          "name": "stdout",
          "text": [
            "Accuracy with k=5: 0.8899259259259259\n"
          ]
        }
      ]
    }
  ]
}