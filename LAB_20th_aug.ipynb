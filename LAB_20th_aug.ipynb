{
  "nbformat": 4,
  "nbformat_minor": 0,
  "metadata": {
    "colab": {
      "provenance": []
    },
    "kernelspec": {
      "name": "python3",
      "display_name": "Python 3"
    },
    "language_info": {
      "name": "python"
    }
  },
  "cells": [
    {
      "cell_type": "code",
      "execution_count": null,
      "metadata": {
        "colab": {
          "base_uri": "https://localhost:8080/"
        },
        "id": "pTu2-C8x6uHL",
        "outputId": "24355d35-3f19-461d-da41-70989376a2dc"
      },
      "outputs": [
        {
          "output_type": "stream",
          "name": "stdout",
          "text": [
            "the adjacency list representing the graph is:\n",
            "{0: [1, 3], 1: [0, 3, 2], 2: [1, 4, 5], 3: [0, 1, 4], 4: [3, 2, 5], 5: [2, 4]}\n",
            "BFS transversal of graph with source 0 is:\n",
            "0-->1-->3-->2-->4-->5-->"
          ]
        }
      ],
      "source": [
        "# Part 1 – Implement Breadth First Search Algorithm using a Queue\n",
        "# 1. Given a graph with adjacency list and a starting vertex and we have to traverse the\n",
        "# graph.\n",
        "# 2. We will first print the value in the starting vertex,\n",
        "# 3. Continue to print the value of neighbors of the starting vertex and\n",
        "# 4. Next move on to the next level after completing the current level till all the vertices of\n",
        "# the graph are printe\n",
        "\n",
        "\n",
        "from queue import Queue\n",
        "graph={0:[1,3],1:[0,3,2],2:[1,4,5],3:[0,1,4],4:[3,2,5],5:[2,4]}\n",
        "print(\"the adjacency list representing the graph is:\")\n",
        "print(graph)\n",
        "\n",
        "def bfs(graph,source):\n",
        "  Q=Queue()\n",
        "  visited_vertices=set()\n",
        "  Q.put(source)\n",
        "  visited_vertices.update({0})\n",
        "  while not Q.empty():\n",
        "    vertex=Q.get()\n",
        "    print(vertex,end=\"-->\")\n",
        "    for u in graph[vertex]:\n",
        "      if u not in visited_vertices:\n",
        "        Q.put(u)\n",
        "        visited_vertices.update({u})\n",
        "print(\"BFS transversal of graph with source 0 is:\")\n",
        "bfs(graph,0)"
      ]
    },
    {
      "cell_type": "code",
      "source": [
        "# Part 2 – Implement Depth First Search Algorithm using a Stack\n",
        "# 0.1 DFS Stack implementations steps to be followed:\n",
        "# 1. Start at the root node and push it onto the stack.\n",
        "# 2. Check for any adjacent nodes of the tree and select one node.\n",
        "# 3. Traverse the entire branch of the selected node and push all the nodes into the stack.\n",
        "# 4. Upon reaching the end of a branch (no more adjacent nodes) ie nth leaf nod\n",
        "\n",
        "graph={\n",
        "    'A':['B','S'],\n",
        "    'B':['A'],\n",
        "    'C':['D','E','F','S'],\n",
        "    'D':['C'],\n",
        "    'S':['A','G','C'],\n",
        "    'E':['C','H'],\n",
        "    'F':['C','G'],\n",
        "    'G':['F','S','H'],\n",
        "    'H':['E','G'],\n",
        "}\n",
        "print(\"the adjacency list representing the graph is:\")\n",
        "print(graph)\n",
        "\n",
        "def dfs(graph, start):\n",
        "    visited = set()\n",
        "    stack = [start]\n",
        "\n",
        "    while stack:\n",
        "        vertex = stack.pop()\n",
        "        if vertex not in visited:\n",
        "            visited.add(vertex)\n",
        "            print(vertex, end=\" \")\n",
        "\n",
        "            stack.extend(neighbor for neighbor in graph[vertex] if neighbor not in visited)\n",
        "\n",
        "print(\"DFS traversal of graph starting from vertex A:\")\n",
        "dfs(graph, 'A')"
      ],
      "metadata": {
        "colab": {
          "base_uri": "https://localhost:8080/"
        },
        "id": "AP3JqmHR_dH7",
        "outputId": "16f9ddf3-cc45-4800-d307-f227f0d5a86c"
      },
      "execution_count": null,
      "outputs": [
        {
          "output_type": "stream",
          "name": "stdout",
          "text": [
            "the adjacency list representing the graph is:\n",
            "{'A': ['B', 'S'], 'B': ['A'], 'C': ['D', 'E', 'F', 'S'], 'D': ['C'], 'S': ['A', 'G', 'C'], 'E': ['C', 'H'], 'F': ['C', 'G'], 'G': ['F', 'S', 'H'], 'H': ['E', 'G']}\n",
            "DFS traversal of graph starting from vertex A:\n",
            "A S C F G H E D B "
          ]
        }
      ]
    }
  ]
}