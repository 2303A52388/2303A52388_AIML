{
  "nbformat": 4,
  "nbformat_minor": 0,
  "metadata": {
    "colab": {
      "provenance": []
    },
    "kernelspec": {
      "name": "python3",
      "display_name": "Python 3"
    },
    "language_info": {
      "name": "python"
    }
  },
  "cells": [
    {
      "cell_type": "code",
      "execution_count": null,
      "metadata": {
        "id": "HGe3S3xp9iVd"
      },
      "outputs": [],
      "source": [
        "import numpy as np\n",
        "\n",
        "# 1. Lists\n",
        "my_list = [1, 2, 3]\n",
        "print(my_list)\n",
        "print( type(my_list))\n",
        "\n",
        "# 2. Arrays\n",
        "my_array = np.array([1, 2, 3])\n",
        "print(my_array)\n",
        "print(type(my_array))\n",
        "\n",
        "#mathematical operations\n",
        "\n",
        "# Multiplication\n",
        "M_arr = my_array * 2\n",
        "print(M_arr)\n",
        "\n",
        "# Division\n",
        "div_arr = my_array / 2\n",
        "print(div_arr)\n",
        "\n",
        "# Power\n",
        "power_arr = my_array ** 2\n",
        "print(power_arr)\n",
        "\n",
        "# 5. Combine text with NumPy function to generate a textual output\n",
        "array1 = np.array([1, 2, 3])\n",
        "array2 = np.array([4, 5, 6])\n",
        "output = f\"Addition of Two: {array1 + array2}\"\n",
        "print(output)\n",
        "\n",
        "# 6. Implement np.sin(), np.log(), np.log2(), np.exp()\n",
        "sine = np.sin(my_array)\n",
        "print(sine)\n",
        "\n",
        "log1 = np.log(my_array)\n",
        "print(log1)\n",
        "\n",
        "log = np.log2(my_array)\n",
        "print(log)\n",
        "\n",
        "exp1 = np.exp(my_array)\n",
        "print(exp1)\n",
        "\n",
        "\n"
      ]
    }
  ]
}